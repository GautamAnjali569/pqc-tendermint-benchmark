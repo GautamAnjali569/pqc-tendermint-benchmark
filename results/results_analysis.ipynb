{
  "cells": [
    {
      "cell_type": "code",
      "execution_count": null,
      "id": "import-libraries",
      "metadata": {},
      "outputs": [],
      "source": [
        "import pandas as pd\n",
        "import matplotlib.pyplot as plt\n",
        "\n",
        "# Load the benchmark results\n",
        "df = pd.read_csv('../results/results.csv')\n",
        "\n",
        "# Display the first few rows\n",
        "df.head()"
      ]
    },
    {
      "cell_type": "code",
      "execution_count": null,
      "id": "plot-keygen",
      "metadata": {},
      "outputs": [],
      "source": [
        "# Plot Key Generation Time\n",
        "plt.figure(figsize=(8,5))\n",
        "keygen_df = df[df['Operation'] == 'KeyGen']\n",
        "plt.bar(keygen_df['Algorithm'], keygen_df['Time(ns)'], color=['blue', 'orange'])\n",
        "plt.xlabel('Algorithm')\n",
        "plt.ylabel('Time (ns)')\n",
        "plt.title('Key Generation Time Comparison')\n",
        "plt.show()"
      ]
    },
    {
      "cell_type": "code",
      "execution_count": null,
      "id": "plot-signing",
      "metadata": {},
      "outputs": [],
      "source": [
        "# Plot Signing Time\n",
        "plt.figure(figsize=(8,5))\n",
        "sign_df = df[df['Operation'] == 'Signing']\n",
        "plt.bar(sign_df['Algorithm'], sign_df['Time(ns)'], color=['blue', 'orange'])\n",
        "plt.xlabel('Algorithm')\n",
        "plt.ylabel('Time (ns)')\n",
        "plt.title('Signing Time Comparison')\n",
        "plt.show()"
      ]
    },
    {
      "cell_type": "code",
      "execution_count": null,
      "id": "plot-verification",
      "metadata": {},
      "outputs": [],
      "source": [
        "# Plot Verification Time\n",
        "plt.figure(figsize=(8,5))\n",
        "verify_df = df[df['Operation'] == 'Verify']\n",
        "plt.bar(verify_df['Algorithm'], verify_df['Time(ns)'], color=['blue', 'orange'])\n",
        "plt.xlabel('Algorithm')\n",
        "plt.ylabel('Time (ns)')\n",
        "plt.title('Verification Time Comparison')\n",
        "plt.show()"
      ]
    }
  ],
  "metadata": {
    "kernelspec": {
      "display_name": "Python 3",
      "language": "python",
      "name": "python3"
    },
    "language_info": {
      "codemirror_mode": {
        "name": "ipython",
        "version": 3
      },
      "file_extension": ".py",
      "mimetype": "text/x-python",
      "name": "python",
      "nbconvert_exporter": "python",
      "pygments_lexer": "ipython3",
      "version": "3.8"
    }
  },
  "nbformat": 4,
  "nbformat_minor": 4
}

